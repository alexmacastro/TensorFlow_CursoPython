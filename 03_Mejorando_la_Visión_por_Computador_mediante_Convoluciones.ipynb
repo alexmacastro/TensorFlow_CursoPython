{
  "nbformat": 4,
  "nbformat_minor": 0,
  "metadata": {
    "colab": {
      "name": "03_Mejorando la Visión por Computador mediante Convoluciones.ipynb",
      "provenance": [],
      "collapsed_sections": [],
      "toc_visible": true
    },
    "kernelspec": {
      "name": "python3",
      "display_name": "Python 3"
    },
    "language_info": {
      "codemirror_mode": {
        "name": "ipython",
        "version": 3
      },
      "file_extension": ".py",
      "mimetype": "text/x-python",
      "name": "python",
      "nbconvert_exporter": "python",
      "pygments_lexer": "ipython3",
      "version": "3.7.3"
    },
    "accelerator": "GPU"
  },
  "cells": [
    {
      "cell_type": "markdown",
      "metadata": {
        "colab_type": "text",
        "id": "R6gHiH-I7uFa"
      },
      "source": [
        "# Mejorando la Visión por Computador mediante Convoluciones\n",
        "Autor: [Laurence Moroney](https://www.coursera.org/instructor/lmoroney). TensorFlow in Practice (Coursera--Deep Learning.ai)\n",
        "\n",
        "\\\\\n",
        "Adaptado y traducido por: \\\\\n",
        "\n",
        "Alejandro E. Martínez-Castro amcastro@ugr.es \\\\\n",
        "Departamento de Mecánica de Estructuras e Ingeniería Hidráulica \\\\\n",
        "ETS de Ingeniería de Caminos, Canales y Puertos\n",
        "Universidad de Granada \\\\\n",
        "\n",
        "\n",
        "## Introducción\n",
        "En el cuaderno anterior se mostró una red neuronal profunda (Deep Neuran Network, DNN) para el problema de reconocimiento de prendas de ropa. La red contenía 3 capas: una de entrada, una oculta, y una de salida. \n",
        "\n",
        "Partiremos de este modelo como punto de partida. \n"
      ]
    },
    {
      "cell_type": "code",
      "metadata": {
        "colab_type": "code",
        "id": "xcsRtq9OLorS",
        "outputId": "f1336755-afbc-47d3-9116-40fcaedf81a2",
        "colab": {
          "base_uri": "https://localhost:8080/",
          "height": 512
        }
      },
      "source": [
        "import tensorflow as tf\n",
        "mnist = tf.keras.datasets.fashion_mnist\n",
        "(training_images, training_labels), (test_images, test_labels) = mnist.load_data()\n",
        "training_images=training_images / 255.0\n",
        "test_images=test_images / 255.0\n",
        "model = tf.keras.models.Sequential([\n",
        "  tf.keras.layers.Flatten(),\n",
        "  tf.keras.layers.Dense(128, activation=tf.nn.relu),\n",
        "  tf.keras.layers.Dense(10, activation=tf.nn.softmax)\n",
        "])\n",
        "model.compile(optimizer='adam', loss='sparse_categorical_crossentropy', metrics=['accuracy'])\n",
        "model.fit(training_images, training_labels, epochs=5)\n",
        "\n",
        "test_loss = model.evaluate(test_images, test_labels)"
      ],
      "execution_count": 1,
      "outputs": [
        {
          "output_type": "display_data",
          "data": {
            "text/html": [
              "<p style=\"color: red;\">\n",
              "The default version of TensorFlow in Colab will soon switch to TensorFlow 2.x.<br>\n",
              "We recommend you <a href=\"https://www.tensorflow.org/guide/migrate\" target=\"_blank\">upgrade</a> now \n",
              "or ensure your notebook will continue to use TensorFlow 1.x via the <code>%tensorflow_version 1.x</code> magic:\n",
              "<a href=\"https://colab.research.google.com/notebooks/tensorflow_version.ipynb\" target=\"_blank\">more info</a>.</p>\n"
            ],
            "text/plain": [
              "<IPython.core.display.HTML object>"
            ]
          },
          "metadata": {
            "tags": []
          }
        },
        {
          "output_type": "stream",
          "text": [
            "Downloading data from https://storage.googleapis.com/tensorflow/tf-keras-datasets/train-labels-idx1-ubyte.gz\n",
            "32768/29515 [=================================] - 0s 0us/step\n",
            "Downloading data from https://storage.googleapis.com/tensorflow/tf-keras-datasets/train-images-idx3-ubyte.gz\n",
            "26427392/26421880 [==============================] - 0s 0us/step\n",
            "Downloading data from https://storage.googleapis.com/tensorflow/tf-keras-datasets/t10k-labels-idx1-ubyte.gz\n",
            "8192/5148 [===============================================] - 0s 0us/step\n",
            "Downloading data from https://storage.googleapis.com/tensorflow/tf-keras-datasets/t10k-images-idx3-ubyte.gz\n",
            "4423680/4422102 [==============================] - 0s 0us/step\n",
            "WARNING:tensorflow:From /usr/local/lib/python3.6/dist-packages/tensorflow_core/python/ops/resource_variable_ops.py:1630: calling BaseResourceVariable.__init__ (from tensorflow.python.ops.resource_variable_ops) with constraint is deprecated and will be removed in a future version.\n",
            "Instructions for updating:\n",
            "If using Keras pass *_constraint arguments to layers.\n",
            "Train on 60000 samples\n",
            "Epoch 1/5\n",
            "60000/60000 [==============================] - 5s 82us/sample - loss: 0.5029 - acc: 0.8232\n",
            "Epoch 2/5\n",
            "60000/60000 [==============================] - 3s 57us/sample - loss: 0.3774 - acc: 0.8643\n",
            "Epoch 3/5\n",
            "60000/60000 [==============================] - 3s 56us/sample - loss: 0.3400 - acc: 0.8774\n",
            "Epoch 4/5\n",
            "60000/60000 [==============================] - 3s 56us/sample - loss: 0.3149 - acc: 0.8851\n",
            "Epoch 5/5\n",
            "60000/60000 [==============================] - 3s 56us/sample - loss: 0.2960 - acc: 0.8920\n",
            "10000/10000 [==============================] - 0s 42us/sample - loss: 0.3566 - acc: 0.8715\n"
          ],
          "name": "stdout"
        }
      ]
    },
    {
      "cell_type": "markdown",
      "metadata": {
        "colab_type": "text",
        "id": "zldEXSsF8Noz"
      },
      "source": [
        "La precisión del modelo será probablemente de un 89% en el conjunto de datos de entrenamiento, y un 87% en el de validación. No está mal. Pero, ¿cómo podemos hacerlo mejor?. \n",
        "\n",
        "Una posibilidad es utilizar **convoluciones**. Las convoluciones son filtros lineales que sirven para acentuar los rasgos, con el fin de mejorar la identificación en el entrenamiento (como se describe en https://en.wikipedia.org/wiki/Kernel_(procesamiento de imágenes))\n",
        "\n",
        "En resumen, se toma una matriz reducida (de 3x3 o 5x5 usualmente) y se pasa por la imagen. El filtro produce una nueva imagen. Al aplicar el filtro se pierde parte de la resolución inicial: con una ventana de 3x3 sobre una imagen de 28x28, se obtiene una imagen nueva, de 26x26. \n",
        "\n",
        "\n",
        "Los filtros tienen propósito múltiple. Algunos acentúan rasgos horizontales. Otros verticales. Otros simplemente detectan bordes, etc. En en enlace anterior pueden verse varias matrices y filtros (Gaussiano, detector de bordes, etc). \n",
        "\n",
        "Al filtrar una imagen se obtiene una nueva imagen, que contiene los rasgos acentuados. Es más sencilla la identificación, y por tanto, es preferible entrenar sobre la imagen filtrada. \n",
        "\n",
        "Este es el concepto que se maneja en las Redes Neuronales Convolucionales (Convolutional Neural Networks). Se añaden algunas capas para hacer convoluciones justo antes de entrar en las capas densamente conectadas. La información que se pasa a las capas densas están mejor estructuradas, y describe mejor los rasgos. Suelen generar estructuras más precisas. \n",
        "\n",
        "Además de la convolución, se suele realizar otra operación de \"agrupación\" (Pooling). Ésta consiste en, sobre una ventana de 2x2, seleccionar el pixel con el valor más alto, y retenerlo. Tras esta operación, se reduce a la mitad el tamaño procesado. Así, desde una imagen 28x28, que tras una capa convolucional ha quedado con tamaño 26x26 con un filtro de 3x3, tras una agrupación queda en una imagen de 13x13. \n",
        "\n",
        "Normalmente se aplican a la vez operaciones de convolución y agrupamiento, en varias capas. Finalmente, se \"aplana\" la última salida para entrar en una red densa sobre la cual entrenar. \n",
        "\n",
        "Ejecute el bloque de código siguiente. Se trata de la misma red neuronal que se planteó para el caso de prendas de ropa, pero en este caso se añaden capas convolucionales y de agrupamiento. Esta red tardará más en entrenar, pero la precisión mejorará. \n",
        "\n",
        "Para que el modelo corra más rápido, es conveniente elegir un entorno de ejecución donde se emplee la GPU. "
      ]
    },
    {
      "cell_type": "code",
      "metadata": {
        "colab_type": "code",
        "id": "C0tFgT1MMKi6",
        "outputId": "8b0d348d-dd06-4812-ce45-53bd94b6a66c",
        "colab": {
          "base_uri": "https://localhost:8080/",
          "height": 667
        }
      },
      "source": [
        "import tensorflow as tf\n",
        "print(tf.__version__)\n",
        "mnist = tf.keras.datasets.fashion_mnist\n",
        "(training_images, training_labels), (test_images, test_labels) = mnist.load_data()\n",
        "training_images=training_images.reshape(60000, 28, 28, 1)\n",
        "training_images=training_images / 255.0\n",
        "test_images = test_images.reshape(10000, 28, 28, 1)\n",
        "test_images=test_images/255.0\n",
        "model = tf.keras.models.Sequential([\n",
        "  tf.keras.layers.Conv2D(64, (3,3), activation='relu', input_shape=(28, 28, 1)),\n",
        "  tf.keras.layers.MaxPooling2D(2, 2),\n",
        "  tf.keras.layers.Conv2D(64, (3,3), activation='relu'),\n",
        "  tf.keras.layers.MaxPooling2D(2,2),\n",
        "  tf.keras.layers.Flatten(),\n",
        "  tf.keras.layers.Dense(128, activation='relu'),\n",
        "  tf.keras.layers.Dense(10, activation='softmax')\n",
        "])\n",
        "model.compile(optimizer='adam', loss='sparse_categorical_crossentropy', metrics=['accuracy'])\n",
        "model.summary()\n",
        "model.fit(training_images, training_labels, epochs=5)\n",
        "test_loss = model.evaluate(test_images, test_labels)\n"
      ],
      "execution_count": 2,
      "outputs": [
        {
          "output_type": "stream",
          "text": [
            "1.15.0\n",
            "Model: \"sequential_1\"\n",
            "_________________________________________________________________\n",
            "Layer (type)                 Output Shape              Param #   \n",
            "=================================================================\n",
            "conv2d (Conv2D)              (None, 26, 26, 64)        640       \n",
            "_________________________________________________________________\n",
            "max_pooling2d (MaxPooling2D) (None, 13, 13, 64)        0         \n",
            "_________________________________________________________________\n",
            "conv2d_1 (Conv2D)            (None, 11, 11, 64)        36928     \n",
            "_________________________________________________________________\n",
            "max_pooling2d_1 (MaxPooling2 (None, 5, 5, 64)          0         \n",
            "_________________________________________________________________\n",
            "flatten_1 (Flatten)          (None, 1600)              0         \n",
            "_________________________________________________________________\n",
            "dense_2 (Dense)              (None, 128)               204928    \n",
            "_________________________________________________________________\n",
            "dense_3 (Dense)              (None, 10)                1290      \n",
            "=================================================================\n",
            "Total params: 243,786\n",
            "Trainable params: 243,786\n",
            "Non-trainable params: 0\n",
            "_________________________________________________________________\n",
            "Train on 60000 samples\n",
            "Epoch 1/5\n",
            "60000/60000 [==============================] - 10s 161us/sample - loss: 0.4410 - acc: 0.8388\n",
            "Epoch 2/5\n",
            "60000/60000 [==============================] - 5s 85us/sample - loss: 0.2920 - acc: 0.8928\n",
            "Epoch 3/5\n",
            "60000/60000 [==============================] - 5s 85us/sample - loss: 0.2499 - acc: 0.9073\n",
            "Epoch 4/5\n",
            "60000/60000 [==============================] - 5s 85us/sample - loss: 0.2158 - acc: 0.9192\n",
            "Epoch 5/5\n",
            "60000/60000 [==============================] - 5s 84us/sample - loss: 0.1870 - acc: 0.9294\n",
            "10000/10000 [==============================] - 0s 49us/sample - loss: 0.2449 - acc: 0.9103\n"
          ],
          "name": "stdout"
        }
      ]
    },
    {
      "cell_type": "markdown",
      "metadata": {
        "colab_type": "text",
        "id": "uRLfZ0jt-fQI"
      },
      "source": [
        "La nueva red tendrá aproximadamente un 93% en el conjunto de entrenamiento, y un 89.5% en validación. \n",
        "\n",
        "¡ Las convoluciones y agrupamientos han funcionado !\n",
        "\n",
        "Ahora puede probar algo curioso. Pruebe correr el modelo de nuevo (ejecutando de nuevo todo el bloque anterior), pero para más iteraciones (epochs). Por ejemplo, 20. Explore los resultados. \n",
        "\n",
        "Observará que, durante el entrenamiento, la precisión va aumentando. La red detectará cada vez mejor, sobre los datos de entrenamiento, y aparentemente, introducir más iteraciones ha sido beneficioso. \n",
        "\n",
        "Esto no es así. Observe qué ocurre con el conjunto de datos de verificación. La precisión es del 90.89%. No ha mejorado demasiado respecto a la que había con 5 epochs. \n",
        "\n",
        "Lo que observamos es un fenómeno, denominado **\"sobre-entrenamiento\" (overfitting)**. Esto ocurre cuando la red aprende a detectar muy bien sobre los datos de entrenamiento, y en consecuencia, es menos efectiva sobre datos que la red \"no ha visto\" previamente. Es algo así como si toda nuestra vida hubiésemos visto zapatos rojos. Al ver por primera vez un zapato azul, podríamos pensar que no es un zapato, y nos costaría identificarlo.\n",
        "\n",
        "Observe el código de nuevo. Veamos cómo se han construido las convoluciones. "
      ]
    },
    {
      "cell_type": "markdown",
      "metadata": {
        "colab_type": "text",
        "id": "RaLX5cgI_JDb"
      },
      "source": [
        "### Construcción del modelo: generación de datos de entrada\n",
        "\n",
        "El paso 1 es recopilar los datos. En este caso se observa que los datos de entrada necesitan ser re-formateados. Esto es así porque la primera convolución necesita partir de un tensor que contenga todo. Por tanto, en vez de 60,000 items de 28x28x1 en una lista, es necesario partir de un tensor de 4 dimensiones, de 60,000x28x28x1. Igual ocurre con las imágenes del conjunto de datos de prueba. Si no se hace esto, se obtendrá un error en el código. \n",
        "\n",
        "Esta es la parte del código que realiza esta función, además de normalizar los valores a [0-1].\n",
        "\n",
        "```\n",
        "import tensorflow as tf\n",
        "mnist = tf.keras.datasets.fashion_mnist\n",
        "(training_images, training_labels), (test_images, test_labels) = mnist.load_data()\n",
        "training_images=training_images.reshape(60000, 28, 28, 1)\n",
        "training_images=training_images / 255.0\n",
        "test_images = test_images.reshape(10000, 28, 28, 1)\n",
        "test_images=test_images/255.0\n",
        "```\n",
        "\n"
      ]
    },
    {
      "cell_type": "markdown",
      "metadata": {
        "colab_type": "text",
        "id": "SS_W_INc_kJQ"
      },
      "source": [
        "### Definición del modelo\n",
        "Lo siguiente es definir el modelo. Ahora, en vez de tener la capa de entrada, con neuronas densamente conectadas, en el primer nivel, se van a añadir capas convolucionales previas. \n",
        "\n",
        "Los parámetros son los siguientes: \n",
        "1. El número de convoluciones que se desean generar. Podemos empezar con 64 convoluciones. Esto quiere decir que cada imagen de entrada va a generar 64 variantes. \n",
        "2. El tamaño de la rejilla de convolución: en este caso, 3x3. \n",
        "3. La función de activación a usar. En este caso usaremos `relu`, que devuelve sólo valores positivos, laminando a 0 valores iguales o menores que 0. \n",
        "4. En la primera capa, la forma del dato de entrada.\n",
        "\n",
        "A continuación interviene una capa de tipo `MaxPooling`, que está planteada para comprimir la imagen, manteniendo los rasgos de cada convolución. Especificando (2x2) para MaxPooling, el efecto es reducir la imagen a la cuarta parte (un 25%). \n",
        "\n",
        "Para ver cómo va estructurándose el modelo a través de las sucesivas capas, se recurre a `model.sumary()`, que permite ver el tamaño y la forma de la red. Se observa que tras cada MaxPooling se reduce la imagen. \n",
        "\n",
        "Esta es la parte del código en la que se realiza una convolución y un agrupamiento (Pooling).  \n",
        "\n",
        "```\n",
        "model = tf.keras.models.Sequential([\n",
        "  tf.keras.layers.Conv2D(32, (3,3), activation='relu', input_shape=(28, 28, 1)),\n",
        "  tf.keras.layers.MaxPooling2D(2, 2),\n",
        "```\n",
        "\n"
      ]
    },
    {
      "cell_type": "markdown",
      "metadata": {
        "colab_type": "text",
        "id": "RMorM6daADjA"
      },
      "source": [
        "Y otra convolución...\n",
        "\n",
        "\n",
        "\n",
        "```\n",
        "  tf.keras.layers.Conv2D(64, (3,3), activation='relu'),\n",
        "  tf.keras.layers.MaxPooling2D(2,2)\n",
        "```\n",
        "\n"
      ]
    },
    {
      "cell_type": "markdown",
      "metadata": {
        "colab_type": "text",
        "id": "b1-x-kZF4_tC"
      },
      "source": [
        "\n",
        "Ahora, se \"aplana\" la salida. Es decir, se convierte en un vector. Tras esto, se tendrá una red neuronal del mismo tipo que la que se tenía en la entrada cuando no se usaban convoluciones. El \"aplanado\" se realiza con esta función: \n",
        "\n",
        "```\n",
        "  tf.keras.layers.Flatten(),\n",
        "```\n",
        "\n"
      ]
    },
    {
      "cell_type": "markdown",
      "metadata": {
        "colab_type": "text",
        "id": "qPtqR23uASjX"
      },
      "source": [
        "A continuación se plantean 128 neuronas densamente conectadas, y 10 neuronas en la capa de salida, igual que ocurría en el caso sin usar convoluciones. Lo que se ha hecho con las convoluciones es transformar cada imagen de entrada en muchas imágenes que, cada una de ellas, acentúa un rasgo, y conduce a la misma clasificación que la imagen original. \n",
        "\n",
        "Es como si hubiésemos \"aumentado\" el conjunto de datos de entrada, modificándolo con imágenes más simples, pero mayor en número. \n",
        "\n",
        "Estrictamente, esto no es \"aumentar\" el conjunto de datos de entrada. En TensorFlow existe un procedimiento especial para aumentar ficticiamente los datos de entrada, girando las imágenes, rotándolas, o mostrándolas en espejo, para tener más datos de entrada.\n",
        "\n",
        "\n",
        "\n",
        "```\n",
        "  tf.keras.layers.Dense(128, activation='relu'),\n",
        "  tf.keras.layers.Dense(10, activation='softmax')\n",
        "])\n",
        "```\n",
        "\n"
      ]
    },
    {
      "cell_type": "markdown",
      "metadata": {
        "colab_type": "text",
        "id": "C0GSsjUhAaSj"
      },
      "source": [
        "A continuación se compila el modelo, se entrena, y se evalúan las funciones de pérdida y precisión del conjunto de datos de validación. \n",
        "\n",
        "\n",
        "```\n",
        "model.compile(optimizer='adam', loss='sparse_categorical_crossentropy', metrics=['accuracy'])\n",
        "model.fit(training_images, training_labels, epochs=5)\n",
        "test_loss, test_acc = model.evaluate(test_images, test_labels)\n",
        "print(test_acc)\n",
        "```\n",
        "\n",
        "\n"
      ]
    },
    {
      "cell_type": "markdown",
      "metadata": {
        "colab_type": "text",
        "id": "IXx_LX3SAlFs"
      },
      "source": [
        "# Visualización de las Convoluciones y Poolings\n",
        "\n",
        "A continuación visualizaremos las convoluciones gráficamente. La salida de print(test_labels[:100]) nos muestra las primeras 100 etiquetas del conjunto de datos de test. Se observa que los valores en las posiciones 0, 23 y 28 son todas iguales, (valor 9). Esto significa que son botas. \n",
        "\n",
        "Vamos a ver el resultado de correr las convoluciones sobre estas imágenes. Se observarán rasgos comunes. Ahora, cuando la Red Neuronal entrene, tratará de encontrar similitudes entre botas, en base a una combinación de imágenes más sencillas. "
      ]
    },
    {
      "cell_type": "code",
      "metadata": {
        "colab_type": "code",
        "id": "f-6nX4QsOku6",
        "outputId": "894aa2e6-36e6-4739-c656-9b9f44245331",
        "colab": {
          "base_uri": "https://localhost:8080/",
          "height": 73
        }
      },
      "source": [
        "print(test_labels[:100])"
      ],
      "execution_count": 3,
      "outputs": [
        {
          "output_type": "stream",
          "text": [
            "[9 2 1 1 6 1 4 6 5 7 4 5 7 3 4 1 2 4 8 0 2 5 7 9 1 4 6 0 9 3 8 8 3 3 8 0 7\n",
            " 5 7 9 6 1 3 7 6 7 2 1 2 2 4 4 5 8 2 2 8 4 8 0 7 7 8 5 1 1 2 3 9 8 7 0 2 6\n",
            " 2 3 1 2 8 4 1 8 5 9 5 0 3 2 0 6 5 3 6 7 1 8 0 1 4 2]\n"
          ],
          "name": "stdout"
        }
      ]
    },
    {
      "cell_type": "code",
      "metadata": {
        "colab_type": "code",
        "id": "9FGsHhv6JvDx",
        "outputId": "ea7b70f9-1227-4ea9-90a0-4be59c90b822",
        "colab": {
          "base_uri": "https://localhost:8080/",
          "height": 268
        }
      },
      "source": [
        "import matplotlib.pyplot as plt\n",
        "f, axarr = plt.subplots(3,4)\n",
        "FIRST_IMAGE=0\n",
        "SECOND_IMAGE=23\n",
        "THIRD_IMAGE=1\n",
        "CONVOLUTION_NUMBER = 8\n",
        "from tensorflow.keras import models\n",
        "layer_outputs = [layer.output for layer in model.layers]\n",
        "activation_model = tf.keras.models.Model(inputs = model.input, outputs = layer_outputs)\n",
        "for x in range(0,4):\n",
        "  f1 = activation_model.predict(test_images[FIRST_IMAGE].reshape(1, 28, 28, 1))[x]\n",
        "  axarr[0,x].imshow(f1[0, : , :, CONVOLUTION_NUMBER], cmap='inferno')\n",
        "  axarr[0,x].grid(False)\n",
        "  f2 = activation_model.predict(test_images[SECOND_IMAGE].reshape(1, 28, 28, 1))[x]\n",
        "  axarr[1,x].imshow(f2[0, : , :, CONVOLUTION_NUMBER], cmap='inferno')\n",
        "  axarr[1,x].grid(False)\n",
        "  f3 = activation_model.predict(test_images[THIRD_IMAGE].reshape(1, 28, 28, 1))[x]\n",
        "  axarr[2,x].imshow(f3[0, : , :, CONVOLUTION_NUMBER], cmap='inferno')\n",
        "  axarr[2,x].grid(False)"
      ],
      "execution_count": 4,
      "outputs": [
        {
          "output_type": "display_data",
          "data": {
            "image/png": "[encoded data removed]",
            "text/plain": [
              "<Figure size 432x288 with 12 Axes>"
            ]
          },
          "metadata": {
            "tags": []
          }
        }
      ]
    },
    {
      "cell_type": "markdown",
      "metadata": {
        "colab_type": "text",
        "id": "8KVPZqgHo5Ux"
      },
      "source": [
        "EJERCICIOS\n",
        "\n",
        "1. Edite las capas de convoluciones. Cambie de 64, a 32 o 16. ¿Qué impacto tiene modificar el número de convoluciones en la precisión y tiempo de entrenamiento?\n",
        "\n",
        "2. Elimine la última capa de convoluciones. ¿Qué ocurre con la precisión y tiempo de entrenamiento?\n",
        "\n",
        "3. ¿Qué ocurre si se añaden más convoluciones?. ¿Qué impacto tiene?. Experimente. \n",
        "\n",
        "4. Elimine todas las convoluciones salvo la primera. ¿Qué sucede?. \n",
        "\n",
        "5. En el cuaderno anterior se implementó una función-objeto callback, para chequear la precisión y parar el entrenamiento cuando se alcance. Pruebe si se puede implementar aquí también."
      ]
    },
    {
      "cell_type": "code",
      "metadata": {
        "colab_type": "code",
        "id": "ZpYRidBXpBPM",
        "outputId": "68a3409d-fcc9-429b-c49c-e84d063c340f",
        "colab": {
          "base_uri": "https://localhost:8080/",
          "height": 500
        }
      },
      "source": [
        "import tensorflow as tf\n",
        "print(tf.__version__)\n",
        "mnist = tf.keras.datasets.mnist\n",
        "(training_images, training_labels), (test_images, test_labels) = mnist.load_data()\n",
        "training_images=training_images.reshape(60000, 28, 28, 1)\n",
        "training_images=training_images / 255.0\n",
        "test_images = test_images.reshape(10000, 28, 28, 1)\n",
        "test_images=test_images/255.0\n",
        "model = tf.keras.models.Sequential([\n",
        "  tf.keras.layers.Conv2D(32, (3,3), activation='relu', input_shape=(28, 28, 1)),\n",
        "  tf.keras.layers.MaxPooling2D(2, 2),\n",
        "  tf.keras.layers.Flatten(),\n",
        "  tf.keras.layers.Dense(128, activation='relu'),\n",
        "  tf.keras.layers.Dense(10, activation='softmax')\n",
        "])\n",
        "model.compile(optimizer='adam', loss='sparse_categorical_crossentropy', metrics=['accuracy'])\n",
        "model.fit(training_images, training_labels, epochs=10)\n",
        "test_loss, test_acc = model.evaluate(test_images, test_labels)\n",
        "print(test_acc)"
      ],
      "execution_count": 5,
      "outputs": [
        {
          "output_type": "stream",
          "text": [
            "1.15.0\n",
            "Downloading data from https://storage.googleapis.com/tensorflow/tf-keras-datasets/mnist.npz\n",
            "11493376/11490434 [==============================] - 0s 0us/step\n",
            "Train on 60000 samples\n",
            "Epoch 1/10\n",
            "60000/60000 [==============================] - 4s 74us/sample - loss: 0.1509 - acc: 0.9551\n",
            "Epoch 2/10\n",
            "60000/60000 [==============================] - 4s 70us/sample - loss: 0.0528 - acc: 0.9840\n",
            "Epoch 3/10\n",
            "60000/60000 [==============================] - 4s 74us/sample - loss: 0.0329 - acc: 0.9898\n",
            "Epoch 4/10\n",
            "60000/60000 [==============================] - 4s 70us/sample - loss: 0.0216 - acc: 0.9933\n",
            "Epoch 5/10\n",
            "60000/60000 [==============================] - 4s 70us/sample - loss: 0.0154 - acc: 0.9948\n",
            "Epoch 6/10\n",
            "60000/60000 [==============================] - 4s 67us/sample - loss: 0.0110 - acc: 0.9967\n",
            "Epoch 7/10\n",
            "60000/60000 [==============================] - 4s 68us/sample - loss: 0.0085 - acc: 0.9974\n",
            "Epoch 8/10\n",
            "60000/60000 [==============================] - 4s 71us/sample - loss: 0.0068 - acc: 0.9977\n",
            "Epoch 9/10\n",
            "60000/60000 [==============================] - 4s 70us/sample - loss: 0.0057 - acc: 0.9980\n",
            "Epoch 10/10\n",
            "60000/60000 [==============================] - 4s 70us/sample - loss: 0.0043 - acc: 0.9986\n",
            "10000/10000 [==============================] - 0s 48us/sample - loss: 0.0551 - acc: 0.9879\n",
            "0.9879\n"
          ],
          "name": "stdout"
        }
      ]
    },
    {
      "cell_type": "code",
      "metadata": {
        "id": "H0JFw59xQxK8",
        "colab_type": "code",
        "colab": {}
      },
      "source": [
        ""
      ],
      "execution_count": 0,
      "outputs": []
    }
  ]
}