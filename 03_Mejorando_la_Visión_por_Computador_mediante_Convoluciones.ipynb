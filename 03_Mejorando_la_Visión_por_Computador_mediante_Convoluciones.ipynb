{
 "cells": [
  {
   "cell_type": "markdown",
   "metadata": {
    "colab_type": "text",
    "id": "R6gHiH-I7uFa"
   },
   "source": [
    "# Mejorando la Visión por Computador mediante Convoluciones\n",
    "Autor: [Laurence Moroney](https://www.coursera.org/instructor/lmoroney). TensorFlow in Practice (Coursera--Deep Learning.ai)\n",
    "\n",
    "\\\\\n",
    "Adaptado y traducido por: \\\\\n",
    "\n",
    "Alejandro E. Martínez-Castro amcastro@ugr.es \\\\\n",
    "Departamento de Mecánica de Estructuras e Ingeniería Hidráulica \\\\\n",
    "ETS de Ingeniería de Caminos, Canales y Puertos\n",
    "Universidad de Granada \\\\\n",
    "\n",
    "\n",
    "## Introducción\n",
    "En el cuaderno anterior se mostró una red neuronal profunda (Deep Neuran Network, DNN) para el problema de reconocimiento de prendas de ropa. La red contenía 3 capas: una de entrada, una oculta, y una de salida. \n",
    "\n",
    "Partiremos de este modelo como punto de partida. \n"
   ]
  },
  {
   "cell_type": "code",
   "execution_count": null,
   "metadata": {
    "colab": {
     "base_uri": "https://localhost:8080/",
     "height": 512
    },
    "colab_type": "code",
    "id": "xcsRtq9OLorS",
    "outputId": "f1336755-afbc-47d3-9116-40fcaedf81a2"
   },
   "outputs": [],
   "source": [
    "import tensorflow as tf\n",
    "mnist = tf.keras.datasets.fashion_mnist\n",
    "(training_images, training_labels), (test_images, test_labels) = mnist.load_data()\n",
    "training_images=training_images / 255.0\n",
    "test_images=test_images / 255.0\n",
    "model = tf.keras.models.Sequential([\n",
    "  tf.keras.layers.Flatten(),\n",
    "  tf.keras.layers.Dense(128, activation=tf.nn.relu),\n",
    "  tf.keras.layers.Dense(10, activation=tf.nn.softmax)\n",
    "])\n",
    "model.compile(optimizer='adam', loss='sparse_categorical_crossentropy', metrics=['accuracy'])\n",
    "model.fit(training_images, training_labels, epochs=5)\n",
    "\n",
    "test_loss = model.evaluate(test_images, test_labels)"
   ]
  },
  {
   "cell_type": "markdown",
   "metadata": {
    "colab_type": "text",
    "id": "zldEXSsF8Noz"
   },
   "source": [
    "La precisión del modelo será probablemente de un 89% en el conjunto de datos de entrenamiento, y un 87% en el de validación. No está mal. Pero, ¿cómo podemos hacerlo mejor?. \n",
    "\n",
    "Una posibilidad es utilizar **convoluciones**. Las convoluciones son filtros lineales que sirven para acentuar los rasgos, con el fin de mejorar la identificación en el entrenamiento (como se describe en https://en.wikipedia.org/wiki/Kernel_(procesamiento de imágenes))\n",
    "\n",
    "En resumen, se toma una matriz reducida (de 3x3 o 5x5 usualmente) y se pasa por la imagen. El filtro produce una nueva imagen. Al aplicar el filtro se pierde parte de la resolución inicial: con una ventana de 3x3 sobre una imagen de 28x28, se obtiene una imagen nueva, de 26x26. \n",
    "\n",
    "\n",
    "Los filtros tienen propósito múltiple. Algunos acentúan rasgos horizontales. Otros verticales. Otros simplemente detectan bordes, etc. En en enlace anterior pueden verse varias matrices y filtros (Gaussiano, detector de bordes, etc). \n",
    "\n",
    "Al filtrar una imagen se obtiene una nueva imagen, que contiene los rasgos acentuados. Es más sencilla la identificación, y por tanto, es preferible entrenar sobre la imagen filtrada. \n",
    "\n",
    "Este es el concepto que se maneja en las Redes Neuronales Convolucionales (Convolutional Neural Networks). Se añaden algunas capas para hacer convoluciones justo antes de entrar en las capas densamente conectadas. La información que se pasa a las capas densas están mejor estructuradas, y describe mejor los rasgos. Suelen generar estructuras más precisas. \n",
    "\n",
    "Además de la convolución, se suele realizar otra operación de \"agrupación\" (Pooling). Ésta consiste en, sobre una ventana de 2x2, seleccionar el pixel con el valor más alto, y retenerlo. Tras esta operación, se reduce a la mitad el tamaño procesado. Así, desde una imagen 28x28, que tras una capa convolucional ha quedado con tamaño 26x26 con un filtro de 3x3, tras una agrupación queda en una imagen de 13x13. \n",
    "\n",
    "Normalmente se aplican a la vez operaciones de convolución y agrupamiento, en varias capas. Finalmente, se \"aplana\" la última salida para entrar en una red densa sobre la cual entrenar. \n",
    "\n",
    "Ejecute el bloque de código siguiente. Se trata de la misma red neuronal que se planteó para el caso de prendas de ropa, pero en este caso se añaden capas convolucionales y de agrupamiento. Esta red tardará más en entrenar, pero la precisión mejorará. \n",
    "\n",
    "Para que el modelo corra más rápido, es conveniente elegir un entorno de ejecución donde se emplee la GPU. "
   ]
  },
  {
   "cell_type": "code",
   "execution_count": null,
   "metadata": {
    "colab": {
     "base_uri": "https://localhost:8080/",
     "height": 667
    },
    "colab_type": "code",
    "id": "C0tFgT1MMKi6",
    "outputId": "8b0d348d-dd06-4812-ce45-53bd94b6a66c"
   },
   "outputs": [],
   "source": [
    "import tensorflow as tf\n",
    "print(tf.__version__)\n",
    "mnist = tf.keras.datasets.fashion_mnist\n",
    "(training_images, training_labels), (test_images, test_labels) = mnist.load_data()\n",
    "training_images=training_images.reshape(60000, 28, 28, 1)\n",
    "training_images=training_images / 255.0\n",
    "test_images = test_images.reshape(10000, 28, 28, 1)\n",
    "test_images=test_images/255.0\n",
    "model = tf.keras.models.Sequential([\n",
    "  tf.keras.layers.Conv2D(64, (3,3), activation='relu', input_shape=(28, 28, 1)),\n",
    "  tf.keras.layers.MaxPooling2D(2, 2),\n",
    "  tf.keras.layers.Conv2D(64, (3,3), activation='relu'),\n",
    "  tf.keras.layers.MaxPooling2D(2,2),\n",
    "  tf.keras.layers.Flatten(),\n",
    "  tf.keras.layers.Dense(128, activation='relu'),\n",
    "  tf.keras.layers.Dense(10, activation='softmax')\n",
    "])\n",
    "model.compile(optimizer='adam', loss='sparse_categorical_crossentropy', metrics=['accuracy'])\n",
    "model.summary()\n",
    "model.fit(training_images, training_labels, epochs=5)\n",
    "test_loss = model.evaluate(test_images, test_labels)\n"
   ]
  },
  {
   "cell_type": "markdown",
   "metadata": {
    "colab_type": "text",
    "id": "uRLfZ0jt-fQI"
   },
   "source": [
    "La nueva red tendrá aproximadamente un 93% en el conjunto de entrenamiento, y un 89.5% en validación. \n",
    "\n",
    "¡ Las convoluciones y agrupamientos han funcionado !\n",
    "\n",
    "Ahora puede probar algo curioso. Pruebe correr el modelo de nuevo (ejecutando de nuevo todo el bloque anterior), pero para más iteraciones (epochs). Por ejemplo, 20. Explore los resultados. \n",
    "\n",
    "Observará que, durante el entrenamiento, la precisión va aumentando. La red detectará cada vez mejor, sobre los datos de entrenamiento, y aparentemente, introducir más iteraciones ha sido beneficioso. \n",
    "\n",
    "Esto no es así. Observe qué ocurre con el conjunto de datos de verificación. La precisión es del 90.89%. No ha mejorado demasiado respecto a la que había con 5 epochs. \n",
    "\n",
    "Lo que observamos es un fenómeno, denominado **\"sobre-entrenamiento\" (overfitting)**. Esto ocurre cuando la red aprende a detectar muy bien sobre los datos de entrenamiento, y en consecuencia, es menos efectiva sobre datos que la red \"no ha visto\" previamente. Es algo así como si toda nuestra vida hubiésemos visto zapatos rojos. Al ver por primera vez un zapato azul, podríamos pensar que no es un zapato, y nos costaría identificarlo.\n",
    "\n",
    "Observe el código de nuevo. Veamos cómo se han construido las convoluciones. "
   ]
  },
  {
   "cell_type": "markdown",
   "metadata": {
    "colab_type": "text",
    "id": "RaLX5cgI_JDb"
   },
   "source": [
    "### Construcción del modelo: generación de datos de entrada\n",
    "\n",
    "El paso 1 es recopilar los datos. En este caso se observa que los datos de entrada necesitan ser re-formateados. Esto es así porque la primera convolución necesita partir de un tensor que contenga todo. Por tanto, en vez de 60,000 items de 28x28x1 en una lista, es necesario partir de un tensor de 4 dimensiones, de 60,000x28x28x1. Igual ocurre con las imágenes del conjunto de datos de prueba. Si no se hace esto, se obtendrá un error en el código. \n",
    "\n",
    "Esta es la parte del código que realiza esta función, además de normalizar los valores a [0-1].\n",
    "\n",
    "```\n",
    "import tensorflow as tf\n",
    "mnist = tf.keras.datasets.fashion_mnist\n",
    "(training_images, training_labels), (test_images, test_labels) = mnist.load_data()\n",
    "training_images=training_images.reshape(60000, 28, 28, 1)\n",
    "training_images=training_images / 255.0\n",
    "test_images = test_images.reshape(10000, 28, 28, 1)\n",
    "test_images=test_images/255.0\n",
    "```\n",
    "\n"
   ]
  },
  {
   "cell_type": "markdown",
   "metadata": {
    "colab_type": "text",
    "id": "SS_W_INc_kJQ"
   },
   "source": [
    "### Definición del modelo\n",
    "Lo siguiente es definir el modelo. Ahora, en vez de tener la capa de entrada, con neuronas densamente conectadas, en el primer nivel, se van a añadir capas convolucionales previas. \n",
    "\n",
    "Los parámetros son los siguientes: \n",
    "1. El número de convoluciones que se desean generar. Podemos empezar con 64 convoluciones. Esto quiere decir que cada imagen de entrada va a generar 64 variantes. \n",
    "2. El tamaño de la rejilla de convolución: en este caso, 3x3. \n",
    "3. La función de activación a usar. En este caso usaremos `relu`, que devuelve sólo valores positivos, laminando a 0 valores iguales o menores que 0. \n",
    "4. En la primera capa, la forma del dato de entrada.\n",
    "\n",
    "A continuación interviene una capa de tipo `MaxPooling`, que está planteada para comprimir la imagen, manteniendo los rasgos de cada convolución. Especificando (2x2) para MaxPooling, el efecto es reducir la imagen a la cuarta parte (un 25%). \n",
    "\n",
    "Para ver cómo va estructurándose el modelo a través de las sucesivas capas, se recurre a `model.sumary()`, que permite ver el tamaño y la forma de la red. Se observa que tras cada MaxPooling se reduce la imagen. \n",
    "\n",
    "Esta es la parte del código en la que se realiza una convolución y un agrupamiento (Pooling).  \n",
    "\n",
    "```\n",
    "model = tf.keras.models.Sequential([\n",
    "  tf.keras.layers.Conv2D(32, (3,3), activation='relu', input_shape=(28, 28, 1)),\n",
    "  tf.keras.layers.MaxPooling2D(2, 2),\n",
    "```\n",
    "\n"
   ]
  },
  {
   "cell_type": "markdown",
   "metadata": {
    "colab_type": "text",
    "id": "RMorM6daADjA"
   },
   "source": [
    "Y otra convolución...\n",
    "\n",
    "\n",
    "\n",
    "```\n",
    "  tf.keras.layers.Conv2D(64, (3,3), activation='relu'),\n",
    "  tf.keras.layers.MaxPooling2D(2,2)\n",
    "```\n",
    "\n"
   ]
  },
  {
   "cell_type": "markdown",
   "metadata": {
    "colab_type": "text",
    "id": "b1-x-kZF4_tC"
   },
   "source": [
    "\n",
    "Ahora, se \"aplana\" la salida. Es decir, se convierte en un vector. Tras esto, se tendrá una red neuronal del mismo tipo que la que se tenía en la entrada cuando no se usaban convoluciones. El \"aplanado\" se realiza con esta función: \n",
    "\n",
    "```\n",
    "  tf.keras.layers.Flatten(),\n",
    "```\n",
    "\n"
   ]
  },
  {
   "cell_type": "markdown",
   "metadata": {
    "colab_type": "text",
    "id": "qPtqR23uASjX"
   },
   "source": [
    "A continuación se plantean 128 neuronas densamente conectadas, y 10 neuronas en la capa de salida, igual que ocurría en el caso sin usar convoluciones. Lo que se ha hecho con las convoluciones es transformar cada imagen de entrada en muchas imágenes que, cada una de ellas, acentúa un rasgo, y conduce a la misma clasificación que la imagen original. \n",
    "\n",
    "Es como si hubiésemos \"aumentado\" el conjunto de datos de entrada, modificándolo con imágenes más simples, pero mayor en número. \n",
    "\n",
    "Estrictamente, esto no es \"aumentar\" el conjunto de datos de entrada. En TensorFlow existe un procedimiento especial para aumentar ficticiamente los datos de entrada, girando las imágenes, rotándolas, o mostrándolas en espejo, para tener más datos de entrada.\n",
    "\n",
    "\n",
    "\n",
    "```\n",
    "  tf.keras.layers.Dense(128, activation='relu'),\n",
    "  tf.keras.layers.Dense(10, activation='softmax')\n",
    "])\n",
    "```\n",
    "\n"
   ]
  },
  {
   "cell_type": "markdown",
   "metadata": {
    "colab_type": "text",
    "id": "C0GSsjUhAaSj"
   },
   "source": [
    "A continuación se compila el modelo, se entrena, y se evalúan las funciones de pérdida y precisión del conjunto de datos de validación. \n",
    "\n",
    "\n",
    "```\n",
    "model.compile(optimizer='adam', loss='sparse_categorical_crossentropy', metrics=['accuracy'])\n",
    "model.fit(training_images, training_labels, epochs=5)\n",
    "test_loss, test_acc = model.evaluate(test_images, test_labels)\n",
    "print(test_acc)\n",
    "```\n",
    "\n",
    "\n"
   ]
  },
  {
   "cell_type": "markdown",
   "metadata": {
    "colab_type": "text",
    "id": "IXx_LX3SAlFs"
   },
   "source": [
    "# Visualización de las Convoluciones y Poolings\n",
    "\n",
    "A continuación visualizaremos las convoluciones gráficamente. La salida de print(test_labels[:100]) nos muestra las primeras 100 etiquetas del conjunto de datos de test. Se observa que los valores en las posiciones 0, 23 y 28 son todas iguales, (valor 9). Esto significa que son botas. \n",
    "\n",
    "Vamos a ver el resultado de correr las convoluciones sobre estas imágenes. Se observarán rasgos comunes. Ahora, cuando la Red Neuronal entrene, tratará de encontrar similitudes entre botas, en base a una combinación de imágenes más sencillas. "
   ]
  },
  {
   "cell_type": "code",
   "execution_count": null,
   "metadata": {
    "colab": {
     "base_uri": "https://localhost:8080/",
     "height": 73
    },
    "colab_type": "code",
    "id": "f-6nX4QsOku6",
    "outputId": "894aa2e6-36e6-4739-c656-9b9f44245331"
   },
   "outputs": [],
   "source": [
    "print(test_labels[:100])"
   ]
  },
  {
   "cell_type": "code",
   "execution_count": null,
   "metadata": {
    "colab": {
     "base_uri": "https://localhost:8080/",
     "height": 268
    },
    "colab_type": "code",
    "id": "9FGsHhv6JvDx",
    "outputId": "ea7b70f9-1227-4ea9-90a0-4be59c90b822"
   },
   "outputs": [],
   "source": [
    "import matplotlib.pyplot as plt\n",
    "f, axarr = plt.subplots(3,4)\n",
    "FIRST_IMAGE=0\n",
    "SECOND_IMAGE=23\n",
    "THIRD_IMAGE=1\n",
    "CONVOLUTION_NUMBER = 8\n",
    "from tensorflow.keras import models\n",
    "layer_outputs = [layer.output for layer in model.layers]\n",
    "activation_model = tf.keras.models.Model(inputs = model.input, outputs = layer_outputs)\n",
    "for x in range(0,4):\n",
    "  f1 = activation_model.predict(test_images[FIRST_IMAGE].reshape(1, 28, 28, 1))[x]\n",
    "  axarr[0,x].imshow(f1[0, : , :, CONVOLUTION_NUMBER], cmap='inferno')\n",
    "  axarr[0,x].grid(False)\n",
    "  f2 = activation_model.predict(test_images[SECOND_IMAGE].reshape(1, 28, 28, 1))[x]\n",
    "  axarr[1,x].imshow(f2[0, : , :, CONVOLUTION_NUMBER], cmap='inferno')\n",
    "  axarr[1,x].grid(False)\n",
    "  f3 = activation_model.predict(test_images[THIRD_IMAGE].reshape(1, 28, 28, 1))[x]\n",
    "  axarr[2,x].imshow(f3[0, : , :, CONVOLUTION_NUMBER], cmap='inferno')\n",
    "  axarr[2,x].grid(False)"
   ]
  },
  {
   "cell_type": "markdown",
   "metadata": {
    "colab_type": "text",
    "id": "8KVPZqgHo5Ux"
   },
   "source": [
    "EJERCICIOS\n",
    "\n",
    "1. Edite las capas de convoluciones. Cambie de 64, a 32 o 16. ¿Qué impacto tiene modificar el número de convoluciones en la precisión y tiempo de entrenamiento?\n",
    "\n",
    "2. Elimine la última capa de convoluciones. ¿Qué ocurre con la precisión y tiempo de entrenamiento?\n",
    "\n",
    "3. ¿Qué ocurre si se añaden más convoluciones?. ¿Qué impacto tiene?. Experimente. \n",
    "\n",
    "4. Elimine todas las convoluciones salvo la primera. ¿Qué sucede?. \n",
    "\n",
    "5. En el cuaderno anterior se implementó una función-objeto callback, para chequear la precisión y parar el entrenamiento cuando se alcance. Pruebe si se puede implementar aquí también."
   ]
  },
  {
   "cell_type": "code",
   "execution_count": null,
   "metadata": {
    "colab": {
     "base_uri": "https://localhost:8080/",
     "height": 500
    },
    "colab_type": "code",
    "id": "ZpYRidBXpBPM",
    "outputId": "68a3409d-fcc9-429b-c49c-e84d063c340f"
   },
   "outputs": [],
   "source": [
    "import tensorflow as tf\n",
    "print(tf.__version__)\n",
    "mnist = tf.keras.datasets.mnist\n",
    "(training_images, training_labels), (test_images, test_labels) = mnist.load_data()\n",
    "training_images=training_images.reshape(60000, 28, 28, 1)\n",
    "training_images=training_images / 255.0\n",
    "test_images = test_images.reshape(10000, 28, 28, 1)\n",
    "test_images=test_images/255.0\n",
    "model = tf.keras.models.Sequential([\n",
    "  tf.keras.layers.Conv2D(32, (3,3), activation='relu', input_shape=(28, 28, 1)),\n",
    "  tf.keras.layers.MaxPooling2D(2, 2),\n",
    "  tf.keras.layers.Flatten(),\n",
    "  tf.keras.layers.Dense(128, activation='relu'),\n",
    "  tf.keras.layers.Dense(10, activation='softmax')\n",
    "])\n",
    "model.compile(optimizer='adam', loss='sparse_categorical_crossentropy', metrics=['accuracy'])\n",
    "model.fit(training_images, training_labels, epochs=10)\n",
    "test_loss, test_acc = model.evaluate(test_images, test_labels)\n",
    "print(test_acc)"
   ]
  },
  {
   "cell_type": "code",
   "execution_count": null,
   "metadata": {
    "colab": {},
    "colab_type": "code",
    "id": "H0JFw59xQxK8"
   },
   "outputs": [],
   "source": []
  }
 ],
 "metadata": {
  "accelerator": "GPU",
  "colab": {
   "collapsed_sections": [],
   "name": "03_Mejorando la Visión por Computador mediante Convoluciones.ipynb",
   "provenance": [],
   "toc_visible": true
  },
  "kernelspec": {
   "display_name": "Python 3",
   "language": "python",
   "name": "python3"
  },
  "language_info": {
   "codemirror_mode": {
    "name": "ipython",
    "version": 3
   },
   "file_extension": ".py",
   "mimetype": "text/x-python",
   "name": "python",
   "nbconvert_exporter": "python",
   "pygments_lexer": "ipython3",
   "version": "3.7.3"
  },
  "varInspector": {
   "cols": {
    "lenName": 16,
    "lenType": 16,
    "lenVar": 40
   },
   "kernels_config": {
    "python": {
     "delete_cmd_postfix": "",
     "delete_cmd_prefix": "del ",
     "library": "var_list.py",
     "varRefreshCmd": "print(var_dic_list())"
    },
    "r": {
     "delete_cmd_postfix": ") ",
     "delete_cmd_prefix": "rm(",
     "library": "var_list.r",
     "varRefreshCmd": "cat(var_dic_list()) "
    }
   },
   "types_to_exclude": [
    "module",
    "function",
    "builtin_function_or_method",
    "instance",
    "_Feature"
   ],
   "window_display": false
  }
 },
 "nbformat": 4,
 "nbformat_minor": 1
}
